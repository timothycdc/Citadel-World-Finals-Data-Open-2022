{
 "cells": [
  {
   "cell_type": "code",
   "execution_count": 75,
   "metadata": {},
   "outputs": [],
   "source": [
    "import pandas as pd\n",
    "import numpy as np\n",
    "import matplotlib.pyplot as plt\n",
    "import seaborn as sns\n",
    "from scipy.spatial import distance\n",
    "import xgboost as xgb\n",
    "import shap"
   ]
  },
  {
   "cell_type": "markdown",
   "metadata": {},
   "source": [
    "## 1. Student Body diversity"
   ]
  },
  {
   "cell_type": "code",
   "execution_count": 3,
   "metadata": {},
   "outputs": [],
   "source": [
    "ethnicity = pd.read_csv(r'C:\\Users\\Vincelot\\Documents\\Citadel_Datathon_Finals\\IPEDS_Dataset_Encoded\\Fall Enrollment\\EFA_2015-2020_data.csv', sep=',')"
   ]
  },
  {
   "cell_type": "code",
   "execution_count": 10,
   "metadata": {},
   "outputs": [
    {
     "name": "stderr",
     "output_type": "stream",
     "text": [
      "<ipython-input-10-26573084fa16>:6: DeprecationWarning: `np.float` is a deprecated alias for the builtin `float`. To silence this warning, use `float` by itself. Doing this will not modify any behavior and is safe. If you specifically wanted the numpy scalar type, use `np.float64` here.\n",
      "Deprecated in NumPy 1.20; for more details and guidance: https://numpy.org/devdocs/release/1.20.0-notes.html#deprecations\n",
      "  b = np.array(b, dtype=np.float)\n"
     ]
    },
    {
     "data": {
      "text/plain": [
       "Text(0, 0.5, 'Count')"
      ]
     },
     "execution_count": 10,
     "metadata": {},
     "output_type": "execute_result"
    },
    {
     "data": {
      "image/png": "[encoded data removed]",
      "text/plain": [
       "<Figure size 720x360 with 1 Axes>"
      ]
     },
     "metadata": {
      "needs_background": "light"
     },
     "output_type": "display_data"
    }
   ],
   "source": [
    "def JSD(b): \n",
    "    '''\n",
    "    Jensen-Shannon distance between two vectors\n",
    "    '''\n",
    "    a = overall_ethn\n",
    "    b = np.array(b, dtype=np.float)\n",
    "    _M = 0.5 * (a + b)\n",
    "    return distance.jensenshannon(a,b)\n",
    "\n",
    "ethn = ethnicity[(ethnicity.efalevel == 'All students total')].set_index('unitid')\n",
    "ethn.loc[:,'other'] = ethn[['ef2mort',\"efunknt\",\"efunknt\"]].sum(axis=1)\n",
    "\n",
    "data_ethn = ethn[['efaiant','efasiat','efbkaat','efhispt','efnhpit','efwhitt','other']].div(ethn['eftotlt'], axis=0)\n",
    "overall_ethn = np.array(data_ethn.mean())\n",
    "\n",
    "\n",
    "data_ethn['kl_distance'] = data_ethn.apply(lambda x: JSD(np.array(x)), axis=1)\n",
    "data_ethn['kl_distance'] = data_ethn['kl_distance'].apply(lambda x: 10 if x==np.inf else x)\n",
    "\n",
    "fig, ax  = plt.subplots(figsize=(10,5))\n",
    "data_ethn['kl_distance'].hist(bins=200, color='r').plot(ax=ax)\n",
    "ax.grid(False)\n",
    "ax.set_xlabel('Jensen-Shannon distance between average ethnicity & school ethnicity distributions')\n",
    "ax.set_ylabel('Count')"
   ]
  },
  {
   "cell_type": "markdown",
   "metadata": {},
   "source": [
    "## 2. Graduation rate"
   ]
  },
  {
   "cell_type": "code",
   "execution_count": 55,
   "metadata": {},
   "outputs": [
    {
     "data": {
      "image/png": "[encoded data removed]",
      "text/plain": [
       "<Figure size 720x360 with 1 Axes>"
      ]
     },
     "metadata": {
      "needs_background": "light"
     },
     "output_type": "display_data"
    },
    {
     "name": "stdout",
     "output_type": "stream",
     "text": [
      "Median completion rate: 34.0%\n",
      "Mean completion rate: 38.5513900357831%\n"
     ]
    }
   ],
   "source": [
    "undergrad_compl = pd.read_csv(r'C:\\Users\\Vincelot\\Documents\\Citadel_Datathon_Finals\\IPEDS_Dataset_Encoded\\Outcome Measures\\OM_2015-2021_data.csv', sep=',')\n",
    "data_compl = undergrad_compl[(undergrad_compl.omchrt == 'First-time, full-time entering, Total')]\n",
    "fig, ax  = plt.subplots(figsize=(10,5))\n",
    "data_compl['OMAWDP4'.lower()].hist(bins=300, color='red').plot(ax=ax)\n",
    "ax.grid(False)\n",
    "ax.set_xlabel('Degree/Certificate completion rate per institution')\n",
    "ax.set_ylabel('Count')\n",
    "plt.show()\n",
    "print('Median completion rate: {}%'.format(data_compl[['OMAWDP4'.lower()]].median().values[0]))\n",
    "print('Mean completion rate: {}%'.format(data_compl[['OMAWDP4'.lower()]].mean().values[0]))"
   ]
  },
  {
   "cell_type": "markdown",
   "metadata": {},
   "source": [
    "## 3. Tution fees intensity"
   ]
  },
  {
   "cell_type": "code",
   "execution_count": 58,
   "metadata": {},
   "outputs": [
    {
     "data": {
      "text/html": [
       "<div>\n",
       "<style scoped>\n",
       "    .dataframe tbody tr th:only-of-type {\n",
       "        vertical-align: middle;\n",
       "    }\n",
       "\n",
       "    .dataframe tbody tr th {\n",
       "        vertical-align: top;\n",
       "    }\n",
       "\n",
       "    .dataframe thead th {\n",
       "        text-align: right;\n",
       "    }\n",
       "</style>\n",
       "<table border=\"1\" class=\"dataframe\">\n",
       "  <thead>\n",
       "    <tr style=\"text-align: right;\">\n",
       "      <th></th>\n",
       "      <th>f2d01</th>\n",
       "    </tr>\n",
       "    <tr>\n",
       "      <th>unitid</th>\n",
       "      <th></th>\n",
       "    </tr>\n",
       "  </thead>\n",
       "  <tbody>\n",
       "    <tr>\n",
       "      <th>100690</th>\n",
       "      <td>7.365773e+06</td>\n",
       "    </tr>\n",
       "    <tr>\n",
       "      <th>100937</th>\n",
       "      <td>1.391152e+07</td>\n",
       "    </tr>\n",
       "    <tr>\n",
       "      <th>101073</th>\n",
       "      <td>2.727705e+06</td>\n",
       "    </tr>\n",
       "    <tr>\n",
       "      <th>101189</th>\n",
       "      <td>3.440194e+07</td>\n",
       "    </tr>\n",
       "    <tr>\n",
       "      <th>101365</th>\n",
       "      <td>7.459146e+06</td>\n",
       "    </tr>\n",
       "    <tr>\n",
       "      <th>...</th>\n",
       "      <td>...</td>\n",
       "    </tr>\n",
       "    <tr>\n",
       "      <th>495280</th>\n",
       "      <td>2.716200e+04</td>\n",
       "    </tr>\n",
       "    <tr>\n",
       "      <th>495314</th>\n",
       "      <td>6.893088e+06</td>\n",
       "    </tr>\n",
       "    <tr>\n",
       "      <th>495767</th>\n",
       "      <td>1.739282e+09</td>\n",
       "    </tr>\n",
       "    <tr>\n",
       "      <th>495916</th>\n",
       "      <td>3.230000e+03</td>\n",
       "    </tr>\n",
       "    <tr>\n",
       "      <th>496043</th>\n",
       "      <td>1.027031e+07</td>\n",
       "    </tr>\n",
       "  </tbody>\n",
       "</table>\n",
       "<p>2068 rows × 1 columns</p>\n",
       "</div>"
      ],
      "text/plain": [
       "               f2d01\n",
       "unitid              \n",
       "100690  7.365773e+06\n",
       "100937  1.391152e+07\n",
       "101073  2.727705e+06\n",
       "101189  3.440194e+07\n",
       "101365  7.459146e+06\n",
       "...              ...\n",
       "495280  2.716200e+04\n",
       "495314  6.893088e+06\n",
       "495767  1.739282e+09\n",
       "495916  3.230000e+03\n",
       "496043  1.027031e+07\n",
       "\n",
       "[2068 rows x 1 columns]"
      ]
     },
     "execution_count": 58,
     "metadata": {},
     "output_type": "execute_result"
    }
   ],
   "source": [
    "fees_money_school = pd.read_csv(r'C:\\Users\\Vincelot\\Documents\\Citadel_Datathon_Finals\\IPEDS_Dataset_Encoded\\Institutional Finances\\F_F2_1415-1920_data.csv', sep=',')\n",
    "fees_money_school[['f2d01','unitid']].groupby('unitid').mean()"
   ]
  },
  {
   "cell_type": "code",
   "execution_count": 90,
   "metadata": {},
   "outputs": [
    {
     "data": {
      "image/png": "[encoded data removed]",
      "text/plain": [
       "<Figure size 720x360 with 1 Axes>"
      ]
     },
     "metadata": {
      "needs_background": "light"
     },
     "output_type": "display_data"
    }
   ],
   "source": [
    "rel_ethn_completion = data_ethn.merge(data_compl[['unitid','OMAWDP4'.lower()]].set_index('unitid'), on='unitid')\n",
    "rel_ethn_completion = rel_ethn_completion.reset_index().groupby('unitid').mean()\n",
    "\n",
    "data_without_gpa = rel_ethn_completion.groupby('unitid').first().merge(fees_money_school[['f2d01','unitid']].groupby('unitid').mean(), on='unitid')\n",
    "\n",
    "stats_df = data_without_gpa.reset_index() \\\n",
    ".groupby('f2d01') \\\n",
    "['f2d01'] \\\n",
    ".agg('count') \\\n",
    ".pipe(pd.DataFrame) \\\n",
    ".rename(columns = {'f2d01': 'frequency'})\n",
    "stats_df['pdf'] = stats_df['frequency'] / sum(stats_df['frequency'])\n",
    "stats_df['cdf'] = stats_df['pdf'].cumsum()\n",
    "\n",
    "dico_fee = stats_df['cdf'].to_dict()\n",
    "data_without_gpa['cdf_fee'] = data_without_gpa['f2d01'].map(dico_fee)\n",
    "\n",
    "fig,ax = plt.subplots(figsize=(10,5))\n",
    "data_without_gpa['f2d01'].hist(bins=200, color='green').plot()\n",
    "ax.grid(False)\n",
    "ax.set_xlabel('Tuition fees profit distribution')\n",
    "ax.set_ylabel('Count')\n",
    "plt.show()\n",
    "\n"
   ]
  },
  {
   "cell_type": "code",
   "execution_count": 98,
   "metadata": {
    "scrolled": true
   },
   "outputs": [
    {
     "data": {
      "image/png": "[encoded data removed]",
      "text/plain": [
       "<Figure size 720x360 with 1 Axes>"
      ]
     },
     "metadata": {
      "needs_background": "light"
     },
     "output_type": "display_data"
    }
   ],
   "source": [
    "fig,ax = plt.subplots(figsize=(10,5))\n",
    "data_without_gpa.sort_values(by='cdf_fee').plot.scatter(y='cdf_fee',x='f2d01', ax=ax, color='red')\n",
    "ax.grid(False)\n",
    "ax.set_xlabel('Tuition fees profit ')\n",
    "ax.set_ylabel('Empirical cumulative distribution function')\n",
    "plt.show()\n"
   ]
  },
  {
   "cell_type": "markdown",
   "metadata": {},
   "source": [
    "## 4. Selection rate (approximated by the admission rate)"
   ]
  },
  {
   "cell_type": "code",
   "execution_count": 66,
   "metadata": {},
   "outputs": [
    {
     "data": {
      "image/png": "[encoded data removed]",
      "text/plain": [
       "<Figure size 720x216 with 1 Axes>"
      ]
     },
     "metadata": {
      "needs_background": "light"
     },
     "output_type": "display_data"
    }
   ],
   "source": [
    "adm_data = pd.read_csv(r'C:\\Users\\Vincelot\\Documents\\Citadel_Datathon_Finals\\IPEDS_Dataset_Encoded\\Admission and Test Scores\\ADM_2015-2021_data.csv',sep=',')\n",
    "nb_appl = pd.DataFrame(adm_data.groupby('unitid').sum()['applcn'])['applcn']\n",
    "nb_adm = pd.DataFrame(adm_data.groupby('unitid').sum()['admssn'])['admssn']\n",
    "adm_rate = nb_adm/nb_appl\n",
    "adm_rate_dico = adm_rate.to_dict()\n",
    "\n",
    "data_with_level = data_without_gpa.reset_index()\n",
    "data_with_level['level'] = data_with_level['unitid'].map(adm_rate_dico)\n",
    "data_with_level = data_with_level.fillna(data_with_level['level'].median()) #fill empty values with the median\n",
    "data_with_level['omawdp4'] /=100\n",
    "\n",
    "fig,ax = plt.subplots(figsize=(10,3))\n",
    "data_with_level['level'].hist(bins=200, color='r').plot(ax=ax)\n",
    "ax.grid(False)\n",
    "ax.set_xlabel('Admission rate per institution')\n",
    "ax.set_ylabel('Count')\n",
    "plt.show()"
   ]
  },
  {
   "cell_type": "markdown",
   "metadata": {},
   "source": [
    "## 5. School quality indicator"
   ]
  },
  {
   "cell_type": "code",
   "execution_count": 71,
   "metadata": {},
   "outputs": [
    {
     "name": "stderr",
     "output_type": "stream",
     "text": [
      "<ipython-input-71-10020380d52b>:2: SettingWithCopyWarning: \n",
      "A value is trying to be set on a copy of a slice from a DataFrame.\n",
      "Try using .loc[row_indexer,col_indexer] = value instead\n",
      "\n",
      "See the caveats in the documentation: https://pandas.pydata.org/pandas-docs/stable/user_guide/indexing.html#returning-a-view-versus-a-copy\n",
      "  df_final['school_quality'] = (df_final['kl_distance']*df_final['omawdp4'])/(df_final['cdf_fee']*df_final['level'])\n"
     ]
    },
    {
     "data": {
      "image/png": "[encoded data removed]",
      "text/plain": [
       "<Figure size 720x432 with 1 Axes>"
      ]
     },
     "metadata": {
      "needs_background": "light"
     },
     "output_type": "display_data"
    }
   ],
   "source": [
    "df_final = data_with_level[['kl_distance','omawdp4','cdf_fee','level']]\n",
    "df_final['school_quality'] = (df_final['kl_distance']*df_final['omawdp4'])/(df_final['cdf_fee']*df_final['level'])\n",
    "\n",
    "fig,ax = plt.subplots(figsize=(10,6))\n",
    "df_final['school_quality'].apply(lambda x: np.log(1+x)).hist(bins=400, color='blue').plot(ax=ax)\n",
    "ax.grid(False)\n",
    "ax.set_xlabel('Institution Quality Score')\n",
    "ax.set_ylabel('Count')\n",
    "plt.show()"
   ]
  },
  {
   "cell_type": "markdown",
   "metadata": {},
   "source": [
    "## 6. Model conception: Parametrization through prediction models"
   ]
  },
  {
   "cell_type": "markdown",
   "metadata": {},
   "source": [
    "### 6.1. Graduation rate model"
   ]
  },
  {
   "cell_type": "code",
   "execution_count": 82,
   "metadata": {},
   "outputs": [
    {
     "name": "stdout",
     "output_type": "stream",
     "text": [
      "Determination score: 0.94\n"
     ]
    },
    {
     "name": "stderr",
     "output_type": "stream",
     "text": [
      "ntree_limit is deprecated, use `iteration_range` or model slicing instead.\n"
     ]
    },
    {
     "data": {
      "image/png": "[encoded data removed]",
      "text/plain": [
       "<Figure size 576x360 with 3 Axes>"
      ]
     },
     "metadata": {},
     "output_type": "display_data"
    }
   ],
   "source": [
    "model_grad_rate = xgb.XGBRegressor(objective=\"reg:squarederror\") \n",
    "\n",
    "model_grad_rate.fit(np.array(data_with_level[['efaiant', 'efasiat', 'efbkaat', 'efhispt', 'efnhpit',\n",
    "       'efwhitt', 'other']]), np.array(data_with_level['omawdp4']))\n",
    "\n",
    "model_grad_rate_viz = xgb.XGBRegressor(objective=\"reg:squarederror\") \n",
    "model_grad_rate_viz.fit(data_with_level[['efaiant', 'efasiat', 'efbkaat', 'efhispt', 'efnhpit',\n",
    "       'efwhitt', 'other']], data_with_level['omawdp4'])\n",
    "print('Determination score: {}'.format(np.round(model_grad_rate_viz.score(data_with_level[['efaiant', 'efasiat', 'efbkaat', 'efhispt', 'efnhpit',\n",
    "       'efwhitt', 'other']], data_with_level['omawdp4']),2)))\n",
    "\n",
    "explainer = shap.Explainer(model_grad_rate_viz)\n",
    "\n",
    "shap_values = explainer(data_with_level[['efaiant', 'efasiat', 'efbkaat', 'efhispt', 'efnhpit',\n",
    "       'efwhitt', 'other']])\n",
    "shap.plots.waterfall(shap_values[0])"
   ]
  },
  {
   "cell_type": "code",
   "execution_count": 111,
   "metadata": {},
   "outputs": [
    {
     "name": "stdout",
     "output_type": "stream",
     "text": [
      "0.2846745040026508\n"
     ]
    }
   ],
   "source": [
    "from sklearn.model_selection import train_test_split\n",
    "\n",
    "X,y=np.array(data_with_level[['efaiant', 'efasiat', 'efbkaat', 'efhispt', 'efnhpit',\n",
    "       'efwhitt', 'other']]), np.array(data_with_level['omawdp4'])\n",
    "X_train, X_test, y_train, y_test = train_test_split(X, y, test_size=0.05, random_state=42)\n",
    "model_grad_rate = xgb.XGBRegressor(objective=\"reg:squarederror\" ,max_depth = 5) \n",
    "\n",
    "model_grad_rate.fit(X_train, y_train)\n",
    "print(model_grad_rate.score(X_test, y_test))\n",
    "                                                    "
   ]
  },
  {
   "cell_type": "markdown",
   "metadata": {},
   "source": [
    "### 6.2 University level model"
   ]
  },
  {
   "cell_type": "code",
   "execution_count": 83,
   "metadata": {},
   "outputs": [
    {
     "name": "stdout",
     "output_type": "stream",
     "text": [
      "Determination score: 0.97\n"
     ]
    },
    {
     "name": "stderr",
     "output_type": "stream",
     "text": [
      "ntree_limit is deprecated, use `iteration_range` or model slicing instead.\n"
     ]
    },
    {
     "data": {
      "image/png": "[encoded data removed]",
      "text/plain": [
       "<Figure size 576x360 with 3 Axes>"
      ]
     },
     "metadata": {},
     "output_type": "display_data"
    }
   ],
   "source": [
    "model_level = xgb.XGBRegressor(objective=\"reg:squarederror\") \n",
    "\n",
    "model_level.fit(np.array(data_with_level[['efaiant', 'efasiat', 'efbkaat', 'efhispt', 'efnhpit',\n",
    "       'efwhitt', 'other']]), np.array(data_with_level['level']))\n",
    "\n",
    "print('Determination score: {}'.format(np.round(model_level.score(np.array(data_with_level[['efaiant', 'efasiat', 'efbkaat', 'efhispt', 'efnhpit',\n",
    "       'efwhitt', 'other']]), np.array(data_with_level['level'])),2)))\n",
    "\n",
    "model_level_viz = xgb.XGBRegressor(objective=\"reg:squarederror\") \n",
    "model_level_viz.fit(data_with_level[['efaiant', 'efasiat', 'efbkaat', 'efhispt', 'efnhpit',\n",
    "       'efwhitt', 'other']], data_with_level['level'])\n",
    "\n",
    "explainer = shap.Explainer(model_level_viz)\n",
    "\n",
    "shap_values = explainer(data_with_level[['efaiant', 'efasiat', 'efbkaat', 'efhispt', 'efnhpit',\n",
    "       'efwhitt', 'other']])\n",
    "\n",
    "shap.plots.waterfall(shap_values[0])"
   ]
  },
  {
   "cell_type": "code",
   "execution_count": 114,
   "metadata": {},
   "outputs": [
    {
     "name": "stdout",
     "output_type": "stream",
     "text": [
      "0.043550716265142175\n"
     ]
    }
   ],
   "source": [
    "X,y=np.array(data_with_level[['efaiant', 'efasiat', 'efbkaat', 'efhispt', 'efnhpit',\n",
    "       'efwhitt', 'other']]), np.array(data_with_level['level'])\n",
    "X_train, X_test, y_train, y_test = train_test_split(X, y, test_size=0.3, random_state=42)\n",
    "model_level = xgb.XGBRegressor(objective=\"reg:squarederror\" ,max_depth = 5) \n",
    "\n",
    "model_level.fit(X_train, y_train)\n",
    "print(model_level.score(X_test, y_test))\n",
    "                                                    "
   ]
  },
  {
   "cell_type": "markdown",
   "metadata": {},
   "source": [
    "## 7. Parametric postsecondary system effectiveness"
   ]
  },
  {
   "cell_type": "code",
   "execution_count": 116,
   "metadata": {},
   "outputs": [],
   "source": [
    "list_schools = np.array(data_with_level['unitid'])\n",
    "dico_school_cdf_fee = data_with_level[['unitid','cdf_fee']].set_index('unitid').to_dict()['cdf_fee']\n",
    "dico_school_level = data_with_level[['unitid','level']].set_index('unitid').to_dict()['level']\n",
    "dico_school_grad_rate = data_with_level[['unitid','omawdp4']].set_index('unitid').to_dict()['omawdp4']\n",
    "#omawdp4\n",
    "\n",
    "def parametric_institution_quality_school(school, p):\n",
    "    diversity_score = JSD(p)\n",
    "    #graduation_rate = model_grad_rate.predict([p])[0]\n",
    "    graduation_rate = dico_school_grad_rate[school]\n",
    "    fee_cdf = dico_school_cdf_fee[school]\n",
    "    #admission_rate = model_level.predict([p])[0]\n",
    "    admission_rate = dico_school_level[school]\n",
    "    return (diversity_score*graduation_rate)/(fee_cdf*admission_rate)\n",
    "\n",
    "def parametric_institution_quality(p_list):\n",
    "    df = data_with_level.copy()\n",
    "    df[['efaiant', 'efasiat', 'efbkaat', 'efhispt', 'efnhpit','efwhitt', 'other']]=p_list\n",
    "    df['school_quality']=df[['unitid','efaiant', 'efasiat', 'efbkaat', 'efhispt', 'efnhpit','efwhitt', 'other']].apply(\n",
    "    lambda x: parametric_institution_quality_school(x[0],[x[i] for i in range(1,8)]), axis=1)\n",
    "    #x[0],[x[i] for i in range(1,8)])\n",
    "    return df['school_quality'].mean()\n",
    "\n",
    "def param_quality(p):\n",
    "    p_list = p.reshape(len(data_with_level),7)\n",
    "    return -parametric_institution_quality(p_list)\n",
    "\n",
    "cons = ({'type': 'eq',\n",
    "         'fun' : lambda x: x[7*i+1]+x[7*i+2]+x[7*i+3]+x[7*i+4]+x[7*i+5]+x[7*i+6] - 1\n",
    "        } for i in range(len(data_with_level)))\n",
    "\n",
    "\n",
    "initial_guess = np.ndarray.flatten(\n",
    "    np.array(data_with_level[['efaiant', 'efasiat', 'efbkaat', 'efhispt', 'efnhpit','efwhitt', 'other']])\n",
    "                                    )"
   ]
  },
  {
   "cell_type": "code",
   "execution_count": 117,
   "metadata": {},
   "outputs": [
    {
     "name": "stderr",
     "output_type": "stream",
     "text": [
      "`np.float` is a deprecated alias for the builtin `float`. To silence this warning, use `float` by itself. Doing this will not modify any behavior and is safe. If you specifically wanted the numpy scalar type, use `np.float64` here.\n",
      "Deprecated in NumPy 1.20; for more details and guidance: https://numpy.org/devdocs/release/1.20.0-notes.html#deprecations\n",
      "invalid value encountered in double_scalars\n"
     ]
    },
    {
     "data": {
      "text/plain": [
       "-1.9420358912826723"
      ]
     },
     "execution_count": 117,
     "metadata": {},
     "output_type": "execute_result"
    }
   ],
   "source": [
    "param_quality(initial_guess)"
   ]
  },
  {
   "cell_type": "code",
   "execution_count": null,
   "metadata": {},
   "outputs": [
    {
     "name": "stderr",
     "output_type": "stream",
     "text": [
      "`np.float` is a deprecated alias for the builtin `float`. To silence this warning, use `float` by itself. Doing this will not modify any behavior and is safe. If you specifically wanted the numpy scalar type, use `np.float64` here.\n",
      "Deprecated in NumPy 1.20; for more details and guidance: https://numpy.org/devdocs/release/1.20.0-notes.html#deprecations\n",
      "invalid value encountered in double_scalars\n"
     ]
    }
   ],
   "source": [
    "from scipy.optimize import minimize\n",
    "\n",
    "nb_eval = 1\n",
    "def callbackF(x):\n",
    "    global nb_eval\n",
    "    print(nb_eval, param_quality(x))\n",
    "    nb_eval += 1\n",
    "    \n",
    "opt_ethn_prop = minimize(param_quality, initial_guess, constraints = cons, options={'maxiter':5}, callback=callbackF)"
   ]
  },
  {
   "cell_type": "code",
   "execution_count": 115,
   "metadata": {},
   "outputs": [
    {
     "data": {
      "text/html": [
       "<div>\n",
       "<style scoped>\n",
       "    .dataframe tbody tr th:only-of-type {\n",
       "        vertical-align: middle;\n",
       "    }\n",
       "\n",
       "    .dataframe tbody tr th {\n",
       "        vertical-align: top;\n",
       "    }\n",
       "\n",
       "    .dataframe thead th {\n",
       "        text-align: right;\n",
       "    }\n",
       "</style>\n",
       "<table border=\"1\" class=\"dataframe\">\n",
       "  <thead>\n",
       "    <tr style=\"text-align: right;\">\n",
       "      <th></th>\n",
       "      <th>unitid</th>\n",
       "      <th>efaiant</th>\n",
       "      <th>efasiat</th>\n",
       "      <th>efbkaat</th>\n",
       "      <th>efhispt</th>\n",
       "      <th>efnhpit</th>\n",
       "      <th>efwhitt</th>\n",
       "      <th>other</th>\n",
       "      <th>kl_distance</th>\n",
       "      <th>omawdp4</th>\n",
       "      <th>f2d01</th>\n",
       "      <th>cdf_fee</th>\n",
       "      <th>level</th>\n",
       "    </tr>\n",
       "  </thead>\n",
       "  <tbody>\n",
       "    <tr>\n",
       "      <th>0</th>\n",
       "      <td>100690</td>\n",
       "      <td>0.002334</td>\n",
       "      <td>0.004584</td>\n",
       "      <td>0.439620</td>\n",
       "      <td>0.014845</td>\n",
       "      <td>0.002473</td>\n",
       "      <td>0.258412</td>\n",
       "      <td>0.552461</td>\n",
       "      <td>0.413498</td>\n",
       "      <td>0.416</td>\n",
       "      <td>7.365773e+06</td>\n",
       "      <td>0.332440</td>\n",
       "      <td>0.689388</td>\n",
       "    </tr>\n",
       "    <tr>\n",
       "      <th>1</th>\n",
       "      <td>100937</td>\n",
       "      <td>0.005209</td>\n",
       "      <td>0.037445</td>\n",
       "      <td>0.128224</td>\n",
       "      <td>0.025553</td>\n",
       "      <td>0.000000</td>\n",
       "      <td>0.785661</td>\n",
       "      <td>0.012541</td>\n",
       "      <td>0.276829</td>\n",
       "      <td>0.590</td>\n",
       "      <td>1.391152e+07</td>\n",
       "      <td>0.469839</td>\n",
       "      <td>0.562805</td>\n",
       "    </tr>\n",
       "    <tr>\n",
       "      <th>2</th>\n",
       "      <td>101073</td>\n",
       "      <td>0.000000</td>\n",
       "      <td>0.000684</td>\n",
       "      <td>0.919829</td>\n",
       "      <td>0.013478</td>\n",
       "      <td>0.000000</td>\n",
       "      <td>0.034059</td>\n",
       "      <td>0.000000</td>\n",
       "      <td>0.602184</td>\n",
       "      <td>0.010</td>\n",
       "      <td>2.727705e+06</td>\n",
       "      <td>0.197051</td>\n",
       "      <td>0.379170</td>\n",
       "    </tr>\n",
       "    <tr>\n",
       "      <th>3</th>\n",
       "      <td>101189</td>\n",
       "      <td>0.006158</td>\n",
       "      <td>0.007520</td>\n",
       "      <td>0.413070</td>\n",
       "      <td>0.023536</td>\n",
       "      <td>0.002738</td>\n",
       "      <td>0.491281</td>\n",
       "      <td>0.059137</td>\n",
       "      <td>0.259607</td>\n",
       "      <td>0.168</td>\n",
       "      <td>3.440194e+07</td>\n",
       "      <td>0.680295</td>\n",
       "      <td>0.580446</td>\n",
       "    </tr>\n",
       "    <tr>\n",
       "      <th>4</th>\n",
       "      <td>101365</td>\n",
       "      <td>0.003711</td>\n",
       "      <td>0.002825</td>\n",
       "      <td>0.577366</td>\n",
       "      <td>0.023394</td>\n",
       "      <td>0.002293</td>\n",
       "      <td>0.310626</td>\n",
       "      <td>0.122652</td>\n",
       "      <td>0.333159</td>\n",
       "      <td>0.498</td>\n",
       "      <td>7.459146e+06</td>\n",
       "      <td>0.336461</td>\n",
       "      <td>0.902500</td>\n",
       "    </tr>\n",
       "    <tr>\n",
       "      <th>...</th>\n",
       "      <td>...</td>\n",
       "      <td>...</td>\n",
       "      <td>...</td>\n",
       "      <td>...</td>\n",
       "      <td>...</td>\n",
       "      <td>...</td>\n",
       "      <td>...</td>\n",
       "      <td>...</td>\n",
       "      <td>...</td>\n",
       "      <td>...</td>\n",
       "      <td>...</td>\n",
       "      <td>...</td>\n",
       "      <td>...</td>\n",
       "    </tr>\n",
       "    <tr>\n",
       "      <th>1487</th>\n",
       "      <td>493798</td>\n",
       "      <td>0.000000</td>\n",
       "      <td>0.000000</td>\n",
       "      <td>0.000000</td>\n",
       "      <td>0.000000</td>\n",
       "      <td>0.000000</td>\n",
       "      <td>1.000000</td>\n",
       "      <td>0.000000</td>\n",
       "      <td>0.472110</td>\n",
       "      <td>0.940</td>\n",
       "      <td>1.344227e+06</td>\n",
       "      <td>0.126676</td>\n",
       "      <td>0.691108</td>\n",
       "    </tr>\n",
       "    <tr>\n",
       "      <th>1488</th>\n",
       "      <td>494685</td>\n",
       "      <td>0.022534</td>\n",
       "      <td>0.016558</td>\n",
       "      <td>0.051173</td>\n",
       "      <td>0.159613</td>\n",
       "      <td>0.000000</td>\n",
       "      <td>0.690610</td>\n",
       "      <td>0.057893</td>\n",
       "      <td>0.190477</td>\n",
       "      <td>0.110</td>\n",
       "      <td>2.103659e+06</td>\n",
       "      <td>0.166220</td>\n",
       "      <td>0.791822</td>\n",
       "    </tr>\n",
       "    <tr>\n",
       "      <th>1489</th>\n",
       "      <td>495147</td>\n",
       "      <td>0.000000</td>\n",
       "      <td>0.025000</td>\n",
       "      <td>0.000000</td>\n",
       "      <td>0.375000</td>\n",
       "      <td>0.000000</td>\n",
       "      <td>0.525000</td>\n",
       "      <td>0.000000</td>\n",
       "      <td>0.364900</td>\n",
       "      <td>0.335</td>\n",
       "      <td>1.720920e+05</td>\n",
       "      <td>0.016086</td>\n",
       "      <td>0.689388</td>\n",
       "    </tr>\n",
       "    <tr>\n",
       "      <th>1490</th>\n",
       "      <td>495280</td>\n",
       "      <td>0.925000</td>\n",
       "      <td>0.000000</td>\n",
       "      <td>0.000000</td>\n",
       "      <td>0.000000</td>\n",
       "      <td>0.000000</td>\n",
       "      <td>0.075000</td>\n",
       "      <td>0.000000</td>\n",
       "      <td>0.740821</td>\n",
       "      <td>0.345</td>\n",
       "      <td>2.716200e+04</td>\n",
       "      <td>0.003351</td>\n",
       "      <td>0.689388</td>\n",
       "    </tr>\n",
       "    <tr>\n",
       "      <th>1491</th>\n",
       "      <td>495767</td>\n",
       "      <td>0.001314</td>\n",
       "      <td>0.065523</td>\n",
       "      <td>0.055992</td>\n",
       "      <td>0.078048</td>\n",
       "      <td>0.000813</td>\n",
       "      <td>0.636345</td>\n",
       "      <td>0.083359</td>\n",
       "      <td>0.190626</td>\n",
       "      <td>0.515</td>\n",
       "      <td>1.739282e+09</td>\n",
       "      <td>0.999330</td>\n",
       "      <td>0.853151</td>\n",
       "    </tr>\n",
       "  </tbody>\n",
       "</table>\n",
       "<p>1492 rows × 13 columns</p>\n",
       "</div>"
      ],
      "text/plain": [
       "      unitid   efaiant   efasiat   efbkaat   efhispt   efnhpit   efwhitt  \\\n",
       "0     100690  0.002334  0.004584  0.439620  0.014845  0.002473  0.258412   \n",
       "1     100937  0.005209  0.037445  0.128224  0.025553  0.000000  0.785661   \n",
       "2     101073  0.000000  0.000684  0.919829  0.013478  0.000000  0.034059   \n",
       "3     101189  0.006158  0.007520  0.413070  0.023536  0.002738  0.491281   \n",
       "4     101365  0.003711  0.002825  0.577366  0.023394  0.002293  0.310626   \n",
       "...      ...       ...       ...       ...       ...       ...       ...   \n",
       "1487  493798  0.000000  0.000000  0.000000  0.000000  0.000000  1.000000   \n",
       "1488  494685  0.022534  0.016558  0.051173  0.159613  0.000000  0.690610   \n",
       "1489  495147  0.000000  0.025000  0.000000  0.375000  0.000000  0.525000   \n",
       "1490  495280  0.925000  0.000000  0.000000  0.000000  0.000000  0.075000   \n",
       "1491  495767  0.001314  0.065523  0.055992  0.078048  0.000813  0.636345   \n",
       "\n",
       "         other  kl_distance  omawdp4         f2d01   cdf_fee     level  \n",
       "0     0.552461     0.413498    0.416  7.365773e+06  0.332440  0.689388  \n",
       "1     0.012541     0.276829    0.590  1.391152e+07  0.469839  0.562805  \n",
       "2     0.000000     0.602184    0.010  2.727705e+06  0.197051  0.379170  \n",
       "3     0.059137     0.259607    0.168  3.440194e+07  0.680295  0.580446  \n",
       "4     0.122652     0.333159    0.498  7.459146e+06  0.336461  0.902500  \n",
       "...        ...          ...      ...           ...       ...       ...  \n",
       "1487  0.000000     0.472110    0.940  1.344227e+06  0.126676  0.691108  \n",
       "1488  0.057893     0.190477    0.110  2.103659e+06  0.166220  0.791822  \n",
       "1489  0.000000     0.364900    0.335  1.720920e+05  0.016086  0.689388  \n",
       "1490  0.000000     0.740821    0.345  2.716200e+04  0.003351  0.689388  \n",
       "1491  0.083359     0.190626    0.515  1.739282e+09  0.999330  0.853151  \n",
       "\n",
       "[1492 rows x 13 columns]"
      ]
     },
     "execution_count": 115,
     "metadata": {},
     "output_type": "execute_result"
    }
   ],
   "source": [
    "data_with_level"
   ]
  }
 ],
 "metadata": {
  "kernelspec": {
   "display_name": "Python 3.9.13 ('env1')",
   "language": "python",
   "name": "python3"
  },
  "language_info": {
   "codemirror_mode": {
    "name": "ipython",
    "version": 3
   },
   "file_extension": ".py",
   "mimetype": "text/x-python",
   "name": "python",
   "nbconvert_exporter": "python",
   "pygments_lexer": "ipython3",
   "version": "3.9.13"
  },
  "vscode": {
   "interpreter": {
    "hash": "bed8170397e01e9ec8ef8172a83a59eb0ec034c215d4e171ce1fba8a3808f392"
   }
  }
 },
 "nbformat": 4,
 "nbformat_minor": 4
}
